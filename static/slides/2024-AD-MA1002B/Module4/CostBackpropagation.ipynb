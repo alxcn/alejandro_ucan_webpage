{
 "cells": [
  {
   "cell_type": "code",
   "execution_count": 1,
   "metadata": {},
   "outputs": [
    {
     "ename": "ValueError",
     "evalue": "shapes (1,3) and (2,4) not aligned: 3 (dim 1) != 2 (dim 0)",
     "output_type": "error",
     "traceback": [
      "\u001b[0;31m---------------------------------------------------------------------------\u001b[0m",
      "\u001b[0;31mValueError\u001b[0m                                Traceback (most recent call last)",
      "Cell \u001b[0;32mIn[1], line 44\u001b[0m\n\u001b[1;32m     42\u001b[0m \u001b[38;5;66;03m# Entrenamiento\u001b[39;00m\n\u001b[1;32m     43\u001b[0m \u001b[38;5;28;01mfor\u001b[39;00m i \u001b[38;5;129;01min\u001b[39;00m \u001b[38;5;28mrange\u001b[39m(m):\n\u001b[0;32m---> 44\u001b[0m     D \u001b[38;5;241m=\u001b[39m \u001b[43mbackprop\u001b[49m\u001b[43m(\u001b[49m\u001b[43mL\u001b[49m\u001b[43m \u001b[49m\u001b[38;5;241;43m-\u001b[39;49m\u001b[43m \u001b[49m\u001b[38;5;241;43m1\u001b[39;49m\u001b[43m,\u001b[49m\u001b[43m \u001b[49m\u001b[43mn\u001b[49m\u001b[43m,\u001b[49m\u001b[43m \u001b[49m\u001b[43mX\u001b[49m\u001b[43m,\u001b[49m\u001b[43m \u001b[49m\u001b[43mW\u001b[49m\u001b[43m,\u001b[49m\u001b[43m \u001b[49m\u001b[43my\u001b[49m\u001b[43m)\u001b[49m\n\u001b[1;32m     45\u001b[0m     W[\u001b[38;5;241m0\u001b[39m] \u001b[38;5;241m-\u001b[39m\u001b[38;5;241m=\u001b[39m alpha \u001b[38;5;241m*\u001b[39m D[\u001b[38;5;241m0\u001b[39m][\u001b[38;5;241m1\u001b[39m:\u001b[38;5;241m3\u001b[39m, :]\n\u001b[1;32m     46\u001b[0m     W[\u001b[38;5;241m1\u001b[39m] \u001b[38;5;241m-\u001b[39m\u001b[38;5;241m=\u001b[39m alpha \u001b[38;5;241m*\u001b[39m D[\u001b[38;5;241m1\u001b[39m]\n",
      "Cell \u001b[0;32mIn[1], line 32\u001b[0m, in \u001b[0;36mbackprop\u001b[0;34m(L, n, X, W, y)\u001b[0m\n\u001b[1;32m     30\u001b[0m \u001b[38;5;28;01mdef\u001b[39;00m \u001b[38;5;21mbackprop\u001b[39m(L, n, X, W, y):\n\u001b[1;32m     31\u001b[0m     D \u001b[38;5;241m=\u001b[39m [\u001b[38;5;28;01mNone\u001b[39;00m] \u001b[38;5;241m*\u001b[39m (L \u001b[38;5;241m-\u001b[39m \u001b[38;5;241m1\u001b[39m)\n\u001b[0;32m---> 32\u001b[0m     a1, a2, a3 \u001b[38;5;241m=\u001b[39m \u001b[43mforward\u001b[49m\u001b[43m(\u001b[49m\u001b[43mX\u001b[49m\u001b[43m,\u001b[49m\u001b[43m \u001b[49m\u001b[43mW\u001b[49m\u001b[43m)\u001b[49m\n\u001b[1;32m     34\u001b[0m     delta3 \u001b[38;5;241m=\u001b[39m a3 \u001b[38;5;241m-\u001b[39m y\n\u001b[1;32m     35\u001b[0m     delta2 \u001b[38;5;241m=\u001b[39m (W[\u001b[38;5;241m1\u001b[39m]\u001b[38;5;241m.\u001b[39mT\u001b[38;5;241m.\u001b[39mdot(delta3)) \u001b[38;5;241m*\u001b[39m a2 \u001b[38;5;241m*\u001b[39m (\u001b[38;5;241m1\u001b[39m \u001b[38;5;241m-\u001b[39m a2)\n",
      "Cell \u001b[0;32mIn[1], line 19\u001b[0m, in \u001b[0;36mforward\u001b[0;34m(X, W)\u001b[0m\n\u001b[1;32m     17\u001b[0m z2 \u001b[38;5;241m=\u001b[39m W[\u001b[38;5;241m0\u001b[39m]\u001b[38;5;241m.\u001b[39mdot(a1)\n\u001b[1;32m     18\u001b[0m a2 \u001b[38;5;241m=\u001b[39m \u001b[38;5;241m1\u001b[39m \u001b[38;5;241m/\u001b[39m (\u001b[38;5;241m1\u001b[39m \u001b[38;5;241m+\u001b[39m np\u001b[38;5;241m.\u001b[39mexp(\u001b[38;5;241m-\u001b[39mz2))  \u001b[38;5;66;03m# Sigmoid\u001b[39;00m\n\u001b[0;32m---> 19\u001b[0m z3 \u001b[38;5;241m=\u001b[39m \u001b[43mW\u001b[49m\u001b[43m[\u001b[49m\u001b[38;5;241;43m1\u001b[39;49m\u001b[43m]\u001b[49m\u001b[38;5;241;43m.\u001b[39;49m\u001b[43mdot\u001b[49m\u001b[43m(\u001b[49m\u001b[43ma2\u001b[49m\u001b[43m)\u001b[49m\n\u001b[1;32m     20\u001b[0m a3 \u001b[38;5;241m=\u001b[39m \u001b[38;5;241m1\u001b[39m \u001b[38;5;241m/\u001b[39m (\u001b[38;5;241m1\u001b[39m \u001b[38;5;241m+\u001b[39m np\u001b[38;5;241m.\u001b[39mexp(\u001b[38;5;241m-\u001b[39mz3))  \u001b[38;5;66;03m# Sigmoid\u001b[39;00m\n\u001b[1;32m     21\u001b[0m \u001b[38;5;28;01mreturn\u001b[39;00m a1, a2, a3\n",
      "\u001b[0;31mValueError\u001b[0m: shapes (1,3) and (2,4) not aligned: 3 (dim 1) != 2 (dim 0)"
     ]
    }
   ],
   "source": [
    "import numpy as np\n",
    "import matplotlib.pyplot as plt\n",
    "\n",
    "# Inicialización de los datos\n",
    "X = np.array([[1, 0, 0], [1, 0, 1], [1, 1, 0], [1, 1, 1]]).T\n",
    "y = np.array([0, 1, 1, 0])\n",
    "L = 3\n",
    "W = [np.random.randn(2, 3), np.random.randn(1, 3)]\n",
    "alpha = 0.8\n",
    "m = 2000\n",
    "n = 4\n",
    "costo = np.zeros(m)\n",
    "\n",
    "# Función de forward\n",
    "def forward(X, W):\n",
    "    a1 = X\n",
    "    z2 = W[0].dot(a1)\n",
    "    a2 = 1 / (1 + np.exp(-z2))  # Sigmoid\n",
    "    z3 = W[1].dot(a2)\n",
    "    a3 = 1 / (1 + np.exp(-z3))  # Sigmoid\n",
    "    return a1, a2, a3\n",
    "\n",
    "# Función de costo\n",
    "def cost(n, X, W, y):\n",
    "    _, _, hW = forward(X, W)\n",
    "    c = -(1/n) * (y.dot(np.log(hW)) + (1 - y).dot(np.log(1 - hW)))\n",
    "    return c\n",
    "\n",
    "# Función de backpropagation\n",
    "def backprop(L, n, X, W, y):\n",
    "    D = [None] * (L - 1)\n",
    "    a1, a2, a3 = forward(X, W)\n",
    "    \n",
    "    delta3 = a3 - y\n",
    "    delta2 = (W[1].T.dot(delta3)) * a2 * (1 - a2)\n",
    "    \n",
    "    D[0] = (1/n) * delta2.dot(a1.T)\n",
    "    D[1] = (1/n) * delta3.dot(a2.T)\n",
    "\n",
    "    return D\n",
    "\n",
    "# Entrenamiento\n",
    "for i in range(m):\n",
    "    D = backprop(L - 1, n, X, W, y)\n",
    "    W[0] -= alpha * D[0][1:3, :]\n",
    "    W[1] -= alpha * D[1]\n",
    "    costo[i] = cost(n, X, W, y)\n",
    "\n",
    "# Visualización del costo\n",
    "plt.plot(range(1, m + 1), costo)\n",
    "plt.xlabel('Iterations')\n",
    "plt.ylabel('Cost')\n",
    "plt.title('Cost over Iterations')\n",
    "plt.show()"
   ]
  },
  {
   "cell_type": "code",
   "execution_count": null,
   "metadata": {},
   "outputs": [],
   "source": []
  }
 ],
 "metadata": {
  "kernelspec": {
   "display_name": "Python 3",
   "language": "python",
   "name": "python3"
  },
  "language_info": {
   "codemirror_mode": {
    "name": "ipython",
    "version": 3
   },
   "file_extension": ".py",
   "mimetype": "text/x-python",
   "name": "python",
   "nbconvert_exporter": "python",
   "pygments_lexer": "ipython3",
   "version": "3.9.6"
  }
 },
 "nbformat": 4,
 "nbformat_minor": 2
}
